{
 "cells": [
  {
   "cell_type": "markdown",
   "metadata": {},
   "source": [
    "## 1. 클래스"
   ]
  },
  {
   "cell_type": "markdown",
   "metadata": {},
   "source": [
    "- 클래스 : 붕어빵틀\n",
    "- 객체 : 붕어빵틀에 의해 만들어진 붕어빵"
   ]
  },
  {
   "cell_type": "markdown",
   "metadata": {},
   "source": [
    "### 1) class문"
   ]
  },
  {
   "cell_type": "code",
   "execution_count": 1,
   "metadata": {},
   "outputs": [],
   "source": [
    "class Cake: #클래스 정의\n",
    "    #변수\n",
    "    #메서드\n",
    "    pass\n",
    "\n",
    "a = Cake() #객체 생성\n",
    "b = Cake() #객체 생성"
   ]
  },
  {
   "cell_type": "code",
   "execution_count": 2,
   "metadata": {},
   "outputs": [
    {
     "name": "stdout",
     "output_type": "stream",
     "text": [
      "<class '__main__.Cake'>\n"
     ]
    }
   ],
   "source": [
    "print(Cake)"
   ]
  },
  {
   "cell_type": "markdown",
   "metadata": {},
   "source": [
    "- 클래스의 이름을 출력하면 정의한 클래스를 확인할 수 있다.\n",
    "- Cake라는 이름 앞에 붙은 \\_\\_main__은 이 클래스가 정의된 모듈을 의미한다."
   ]
  },
  {
   "cell_type": "code",
   "execution_count": 5,
   "metadata": {},
   "outputs": [
    {
     "name": "stdout",
     "output_type": "stream",
     "text": [
      "<class 'int'>\n",
      "<class 'type'>\n",
      "<class '__main__.Cake'>\n"
     ]
    }
   ],
   "source": [
    "print(type(3)) #3은 int라는 데이터유형이고 int는 클래스로 정의되어있다.\n",
    "print(type(Cake)) #Cake 클래스는 type이라는 데이터유형이고 type은 클래스로 정의되어있다.\n",
    "print(type(a)) #a객체는 Cake라는 데이터유형이다."
   ]
  },
  {
   "cell_type": "markdown",
   "metadata": {},
   "source": [
    "- 3은 int 클래스의 인스턴스이다.\n",
    "- Cake 클래스는 type 클래스의 인스턴스이다.\n",
    "- a 객체는 \\_\\_main__.Cake 클래스의 인스턴스이다."
   ]
  },
  {
   "cell_type": "markdown",
   "metadata": {},
   "source": [
    "- 파이썬에서 클래스의 데이터타입은 type(메타클래스)\n",
    "- 파이썬에서 클래스는 객체가 될 수 있다."
   ]
  },
  {
   "cell_type": "markdown",
   "metadata": {},
   "source": [
    "### 2) 변수(속성)"
   ]
  },
  {
   "cell_type": "markdown",
   "metadata": {},
   "source": [
    "- 클래스와 인스턴스 전체가 공유하는 특성\n",
    "- 클래스 변수 : 클래스의 전체 특성을 나타내는 정보. 클래스 속에 정의된 이름이며 클래스에 속하는 인스턴스가 공유한다.\n",
    "- 인스턴스 변수 : 인스턴스의 고유한 특성을 나타내는 정보. 인스턴스 속에 정의된 이름이며 인스턴스마다 각자 따로 갖는다."
   ]
  },
  {
   "cell_type": "code",
   "execution_count": 8,
   "metadata": {
    "scrolled": true
   },
   "outputs": [
    {
     "name": "stdout",
     "output_type": "stream",
     "text": [
      "생크림\n",
      "생크림\n",
      "생크림\n"
     ]
    }
   ],
   "source": [
    "Cake.coat = '생크림' #클래스변수\n",
    "print(Cake.coat)\n",
    "print(a.coat)\n",
    "print(b.coat)"
   ]
  },
  {
   "cell_type": "code",
   "execution_count": 9,
   "metadata": {
    "scrolled": true
   },
   "outputs": [
    {
     "name": "stdout",
     "output_type": "stream",
     "text": [
      "초콜릿\n",
      "초콜릿\n",
      "초콜릿\n"
     ]
    }
   ],
   "source": [
    "Cake.coat = '초콜릿'\n",
    "print(Cake.coat)\n",
    "print(a.coat)\n",
    "print(b.coat)"
   ]
  },
  {
   "cell_type": "code",
   "execution_count": 13,
   "metadata": {
    "scrolled": true
   },
   "outputs": [
    {
     "name": "stdout",
     "output_type": "stream",
     "text": [
      "블루베리\n"
     ]
    }
   ],
   "source": [
    "a.topping = '블루베리' #인스턴스변수\n",
    "print(a.topping)\n",
    "#print(b.topping)\n",
    "#print(Cake.topping)"
   ]
  },
  {
   "cell_type": "code",
   "execution_count": 15,
   "metadata": {},
   "outputs": [
    {
     "name": "stdout",
     "output_type": "stream",
     "text": [
      "초콜릿\n",
      "초콜릿\n",
      "생크림\n",
      "커피\n",
      "커피\n",
      "생크림\n"
     ]
    }
   ],
   "source": [
    "b.coat = '생크림' #인스턴스변수\n",
    "print(Cake.coat)\n",
    "print(a.coat)\n",
    "print(b.coat)\n",
    "Cake.coat = '커피'\n",
    "print(Cake.coat)\n",
    "print(a.coat)\n",
    "print(b.coat)"
   ]
  },
  {
   "cell_type": "markdown",
   "metadata": {},
   "source": [
    "### 3) 메서드(method) : 클래스 안에 구현된 함수"
   ]
  },
  {
   "cell_type": "code",
   "execution_count": 21,
   "metadata": {},
   "outputs": [
    {
     "name": "stdout",
     "output_type": "stream",
     "text": [
      "생크림 케이크입니다.\n"
     ]
    }
   ],
   "source": [
    "class Cake:\n",
    "    coat = '생크림'\n",
    "    def f(self):\n",
    "        print(self.coat, '케이크입니다.')\n",
    "        \n",
    "a = Cake()\n",
    "a.f()"
   ]
  },
  {
   "cell_type": "markdown",
   "metadata": {},
   "source": [
    "### 4) 생성자(constructor) : 객체가 생성될 때 자동으로 호출되는 메서드"
   ]
  },
  {
   "cell_type": "markdown",
   "metadata": {},
   "source": [
    "- \\_\\_init__() 메서드로 초기화하기"
   ]
  },
  {
   "cell_type": "code",
   "execution_count": 22,
   "metadata": {},
   "outputs": [
    {
     "name": "stdout",
     "output_type": "stream",
     "text": [
      "생크림 케이크입니다.\n"
     ]
    }
   ],
   "source": [
    "class Cake:\n",
    "    coat = '생크림'\n",
    "    def __init__(self):\n",
    "        print(self.coat, '케이크입니다.')\n",
    "        \n",
    "a = Cake()"
   ]
  },
  {
   "cell_type": "markdown",
   "metadata": {},
   "source": [
    "## 2. 모듈"
   ]
  },
  {
   "cell_type": "markdown",
   "metadata": {},
   "source": [
    "- 전체 프로그램을 구성하는 독립적인 기능을 묶은 요소\n",
    "- 파이썬 소스 코드 파일 하나\n",
    "- 소스 코드 파일 하나에는 기능적으로 서로 연관된 데이터, 클래스, 함수가 모여있다."
   ]
  },
  {
   "cell_type": "markdown",
   "metadata": {},
   "source": [
    "### 1) import문"
   ]
  },
  {
   "cell_type": "markdown",
   "metadata": {},
   "source": [
    "- 나누어 놓은 모듈을 읽어들여 사용하는 기능\n",
    "- 모듈을 임포트하면 모듈의 이름과 동일한 변수에 모듈이 대입된다.\n",
    "- 모듈 안에서 전역 이름으로 정의된 데이터, 함수, 클래스 등의 객체를 모듈.이름 표현으로 가리킬 수 있다."
   ]
  },
  {
   "cell_type": "markdown",
   "metadata": {},
   "source": [
    "import 모듈이름\n"
   ]
  },
  {
   "cell_type": "code",
   "execution_count": 24,
   "metadata": {},
   "outputs": [
    {
     "name": "stdout",
     "output_type": "stream",
     "text": [
      "3.141592653589793\n",
      "3.0\n"
     ]
    }
   ],
   "source": [
    "import math\n",
    "print(math.pi)\n",
    "print(math.sqrt(9))"
   ]
  },
  {
   "cell_type": "markdown",
   "metadata": {},
   "source": [
    "- 모듈의 이름을 직접 지정하고 싶다면 import 문에 as 이름을 붙일 수 있다."
   ]
  },
  {
   "cell_type": "code",
   "execution_count": 25,
   "metadata": {
    "scrolled": true
   },
   "outputs": [
    {
     "name": "stdout",
     "output_type": "stream",
     "text": [
      "3.141592653589793\n",
      "3.0\n"
     ]
    }
   ],
   "source": [
    "import math as M\n",
    "print(M.pi)\n",
    "print(M.sqrt(9))"
   ]
  },
  {
   "cell_type": "markdown",
   "metadata": {},
   "source": [
    "from 모듈이름 import 객체"
   ]
  },
  {
   "cell_type": "code",
   "execution_count": 26,
   "metadata": {},
   "outputs": [
    {
     "data": {
      "text/plain": [
       "3.141592653589793"
      ]
     },
     "execution_count": 26,
     "metadata": {},
     "output_type": "execute_result"
    }
   ],
   "source": [
    "from math import pi\n",
    "\n",
    "pi"
   ]
  },
  {
   "cell_type": "code",
   "execution_count": 27,
   "metadata": {},
   "outputs": [
    {
     "data": {
      "text/plain": [
       "3.0"
      ]
     },
     "execution_count": 27,
     "metadata": {},
     "output_type": "execute_result"
    }
   ],
   "source": [
    "import math\n",
    "\n",
    "root = math.sqrt\n",
    "root(9)"
   ]
  },
  {
   "cell_type": "markdown",
   "metadata": {},
   "source": [
    "## 3. 패키지"
   ]
  },
  {
   "cell_type": "markdown",
   "metadata": {},
   "source": [
    "- 여러 개의 모듈·패키지를 묶은 것\n",
    "- 패키지를 사용해 모듈을 구조적으로 관리할 수 있다.\n",
    "- 공동 작업이나 유지 보수 등 여러 면에서 유리하다.\n",
    "- 다른 모듈과 이름이 겹치더라도 더 안전하게 사용할 수 있다."
   ]
  },
  {
   "cell_type": "markdown",
   "metadata": {},
   "source": [
    "### 1) import문"
   ]
  },
  {
   "cell_type": "markdown",
   "metadata": {},
   "source": [
    "import 패키지이름"
   ]
  },
  {
   "cell_type": "markdown",
   "metadata": {},
   "source": [
    "from 패키지이름 import 모듈이름"
   ]
  }
 ],
 "metadata": {
  "kernelspec": {
   "display_name": "Python 3",
   "language": "python",
   "name": "python3"
  },
  "language_info": {
   "codemirror_mode": {
    "name": "ipython",
    "version": 3
   },
   "file_extension": ".py",
   "mimetype": "text/x-python",
   "name": "python",
   "nbconvert_exporter": "python",
   "pygments_lexer": "ipython3",
   "version": "3.7.0"
  }
 },
 "nbformat": 4,
 "nbformat_minor": 2
}
